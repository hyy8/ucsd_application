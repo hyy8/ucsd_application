{
 "cells": [
  {
   "cell_type": "code",
   "execution_count": 1,
   "metadata": {},
   "outputs": [],
   "source": [
    "import pandas as pd\n",
    "import numpy as np\n",
    "import matplotlib.pyplot as plt\n",
    "import seaborn as sns\n",
    "sns.set()\n",
    "sns.set_context('talk')\n",
    "from sklearn.preprocessing import OneHotEncoder\n",
    "from sklearn.preprocessing import StandardScaler\n",
    "from sklearn.model_selection import train_test_split\n",
    "from sklearn.ensemble import GradientBoostingClassifier\n",
    "from sklearn.metrics import accuracy_score\n",
    "from sklearn.linear_model import LogisticRegression\n",
    "from sklearn.neural_network import MLPClassifier\n",
    "from sklearn.model_selection import GridSearchCV\n",
    "from sklearn.model_selection import RandomizedSearchCV\n",
    "from scipy.stats import randint, uniform\n",
    "from sklearn.metrics import precision_score,recall_score, f1_score\n",
    "from flask import Flask, request, jsonify\n",
    "import pickle\n",
    "from sklearn.compose import ColumnTransformer\n",
    "from sklearn.pipeline import Pipeline\n"
   ]
  },
  {
   "cell_type": "markdown",
   "metadata": {},
   "source": [
    "Individual project,  \n",
    "Name: Hongyu"
   ]
  },
  {
   "cell_type": "markdown",
   "metadata": {},
   "source": [
    "Project Description: This project uses three different machine learning algorithms to explore past credit and loan information of PayPal's cooperation platform. In the financial business scenario, the lending business uses machine learning algorithms to build models for digital transformation business. Through the analysis and processing of 800,000 pieces of data of the lending information platform, it is hoped to optimize adjust, and find an algorithm with optimal effect to solve the bottleneck of Digital Transformation encountered by the industry and improve efficiency and accuracy by using the digital system."
   ]
  },
  {
   "cell_type": "markdown",
   "metadata": {},
   "source": [
    "The Description of columns name:"
   ]
  },
  {
   "cell_type": "markdown",
   "metadata": {},
   "source": [
    "id: order number,  \n",
    "loanAmnt:  Total amount,  \n",
    "interestRate: Interest ratio ,  \n",
    "installment: Installment ,  \n",
    "grade: Risk ,  \n",
    "subGrade: Sub-level ,  \n",
    "employmetTitle: Occupation title ,  \n",
    "annualIncome: Annual income ,  \n",
    "isDefault: Default background ,  \n",
    "purpose: indicates the purpose of the loan,  \n",
    "dti: Debt-to-income ratio ,  \n",
    "ficoRangeHigh: Penalty amount (high) ,  \n",
    "openAcc: Open account,  \n",
    "revolBar: reversal threshold ,  \n",
    "totalAcc: total account number ,  \n",
    "earliesCrediyLine: low interest rate credit line,  \n",
    "title: title ,  \n",
    "policyCode: policy code,  "
   ]
  },
  {
   "cell_type": "code",
   "execution_count": 2,
   "metadata": {},
   "outputs": [
    {
     "data": {
      "text/html": [
       "<div>\n",
       "<style scoped>\n",
       "    .dataframe tbody tr th:only-of-type {\n",
       "        vertical-align: middle;\n",
       "    }\n",
       "\n",
       "    .dataframe tbody tr th {\n",
       "        vertical-align: top;\n",
       "    }\n",
       "\n",
       "    .dataframe thead th {\n",
       "        text-align: right;\n",
       "    }\n",
       "</style>\n",
       "<table border=\"1\" class=\"dataframe\">\n",
       "  <thead>\n",
       "    <tr style=\"text-align: right;\">\n",
       "      <th></th>\n",
       "      <th>id</th>\n",
       "      <th>loanAmnt</th>\n",
       "      <th>term</th>\n",
       "      <th>interestRate</th>\n",
       "      <th>installment</th>\n",
       "      <th>grade</th>\n",
       "      <th>subGrade</th>\n",
       "      <th>employmentTitle</th>\n",
       "      <th>annualIncome</th>\n",
       "      <th>isDefault</th>\n",
       "      <th>purpose</th>\n",
       "      <th>dti</th>\n",
       "      <th>ficoRangeLow</th>\n",
       "      <th>openAcc</th>\n",
       "      <th>revolBal</th>\n",
       "      <th>totalAcc</th>\n",
       "      <th>earliesCreditLine</th>\n",
       "      <th>title</th>\n",
       "      <th>policyCode</th>\n",
       "    </tr>\n",
       "  </thead>\n",
       "  <tbody>\n",
       "    <tr>\n",
       "      <th>0</th>\n",
       "      <td>0</td>\n",
       "      <td>42000</td>\n",
       "      <td>5</td>\n",
       "      <td>21.674228</td>\n",
       "      <td>927.134668</td>\n",
       "      <td>E</td>\n",
       "      <td>E2</td>\n",
       "      <td>320.0</td>\n",
       "      <td>111000.0</td>\n",
       "      <td>1</td>\n",
       "      <td>1</td>\n",
       "      <td>12.561763</td>\n",
       "      <td>728</td>\n",
       "      <td>8</td>\n",
       "      <td>24179</td>\n",
       "      <td>28</td>\n",
       "      <td>1-Aug</td>\n",
       "      <td>1.0</td>\n",
       "      <td>1</td>\n",
       "    </tr>\n",
       "    <tr>\n",
       "      <th>1</th>\n",
       "      <td>1</td>\n",
       "      <td>23000</td>\n",
       "      <td>5</td>\n",
       "      <td>15.036774</td>\n",
       "      <td>502.313142</td>\n",
       "      <td>D</td>\n",
       "      <td>D2</td>\n",
       "      <td>219843.0</td>\n",
       "      <td>52000.0</td>\n",
       "      <td>0</td>\n",
       "      <td>0</td>\n",
       "      <td>28.313509</td>\n",
       "      <td>699</td>\n",
       "      <td>14</td>\n",
       "      <td>15101</td>\n",
       "      <td>20</td>\n",
       "      <td>2-May</td>\n",
       "      <td>1723.0</td>\n",
       "      <td>1</td>\n",
       "    </tr>\n",
       "    <tr>\n",
       "      <th>2</th>\n",
       "      <td>2</td>\n",
       "      <td>18000</td>\n",
       "      <td>5</td>\n",
       "      <td>17.850663</td>\n",
       "      <td>273.198985</td>\n",
       "      <td>D</td>\n",
       "      <td>D3</td>\n",
       "      <td>31698.0</td>\n",
       "      <td>77000.0</td>\n",
       "      <td>0</td>\n",
       "      <td>0</td>\n",
       "      <td>24.416141</td>\n",
       "      <td>673</td>\n",
       "      <td>12</td>\n",
       "      <td>4610</td>\n",
       "      <td>29</td>\n",
       "      <td>6-May</td>\n",
       "      <td>0.0</td>\n",
       "      <td>1</td>\n",
       "    </tr>\n",
       "    <tr>\n",
       "      <th>3</th>\n",
       "      <td>3</td>\n",
       "      <td>12000</td>\n",
       "      <td>3</td>\n",
       "      <td>7.400815</td>\n",
       "      <td>318.462279</td>\n",
       "      <td>A</td>\n",
       "      <td>A4</td>\n",
       "      <td>46854.0</td>\n",
       "      <td>119000.0</td>\n",
       "      <td>0</td>\n",
       "      <td>4</td>\n",
       "      <td>19.105931</td>\n",
       "      <td>682</td>\n",
       "      <td>10</td>\n",
       "      <td>9955</td>\n",
       "      <td>30</td>\n",
       "      <td>May-99</td>\n",
       "      <td>4.0</td>\n",
       "      <td>1</td>\n",
       "    </tr>\n",
       "    <tr>\n",
       "      <th>4</th>\n",
       "      <td>4</td>\n",
       "      <td>5000</td>\n",
       "      <td>3</td>\n",
       "      <td>15.688492</td>\n",
       "      <td>94.662335</td>\n",
       "      <td>C</td>\n",
       "      <td>C2</td>\n",
       "      <td>54.0</td>\n",
       "      <td>35000.0</td>\n",
       "      <td>0</td>\n",
       "      <td>10</td>\n",
       "      <td>34.280791</td>\n",
       "      <td>689</td>\n",
       "      <td>13</td>\n",
       "      <td>2944</td>\n",
       "      <td>29</td>\n",
       "      <td>Aug-77</td>\n",
       "      <td>11.0</td>\n",
       "      <td>1</td>\n",
       "    </tr>\n",
       "    <tr>\n",
       "      <th>...</th>\n",
       "      <td>...</td>\n",
       "      <td>...</td>\n",
       "      <td>...</td>\n",
       "      <td>...</td>\n",
       "      <td>...</td>\n",
       "      <td>...</td>\n",
       "      <td>...</td>\n",
       "      <td>...</td>\n",
       "      <td>...</td>\n",
       "      <td>...</td>\n",
       "      <td>...</td>\n",
       "      <td>...</td>\n",
       "      <td>...</td>\n",
       "      <td>...</td>\n",
       "      <td>...</td>\n",
       "      <td>...</td>\n",
       "      <td>...</td>\n",
       "      <td>...</td>\n",
       "      <td>...</td>\n",
       "    </tr>\n",
       "    <tr>\n",
       "      <th>799995</th>\n",
       "      <td>799995</td>\n",
       "      <td>26000</td>\n",
       "      <td>3</td>\n",
       "      <td>14.634214</td>\n",
       "      <td>1000.861120</td>\n",
       "      <td>C</td>\n",
       "      <td>C4</td>\n",
       "      <td>2659.0</td>\n",
       "      <td>76000.0</td>\n",
       "      <td>0</td>\n",
       "      <td>0</td>\n",
       "      <td>23.089648</td>\n",
       "      <td>708</td>\n",
       "      <td>15</td>\n",
       "      <td>9938</td>\n",
       "      <td>16</td>\n",
       "      <td>11-Aug</td>\n",
       "      <td>0.0</td>\n",
       "      <td>1</td>\n",
       "    </tr>\n",
       "    <tr>\n",
       "      <th>799996</th>\n",
       "      <td>799996</td>\n",
       "      <td>22000</td>\n",
       "      <td>3</td>\n",
       "      <td>7.103320</td>\n",
       "      <td>535.070316</td>\n",
       "      <td>A</td>\n",
       "      <td>A4</td>\n",
       "      <td>29205.0</td>\n",
       "      <td>102000.0</td>\n",
       "      <td>0</td>\n",
       "      <td>4</td>\n",
       "      <td>15.541106</td>\n",
       "      <td>717</td>\n",
       "      <td>8</td>\n",
       "      <td>20478</td>\n",
       "      <td>45</td>\n",
       "      <td>May-89</td>\n",
       "      <td>33369.0</td>\n",
       "      <td>1</td>\n",
       "    </tr>\n",
       "    <tr>\n",
       "      <th>799997</th>\n",
       "      <td>799997</td>\n",
       "      <td>9000</td>\n",
       "      <td>3</td>\n",
       "      <td>12.471062</td>\n",
       "      <td>191.330483</td>\n",
       "      <td>C</td>\n",
       "      <td>C3</td>\n",
       "      <td>2582.0</td>\n",
       "      <td>67000.0</td>\n",
       "      <td>1</td>\n",
       "      <td>0</td>\n",
       "      <td>11.602060</td>\n",
       "      <td>668</td>\n",
       "      <td>6</td>\n",
       "      <td>6382</td>\n",
       "      <td>39</td>\n",
       "      <td>2-Jul</td>\n",
       "      <td>0.0</td>\n",
       "      <td>1</td>\n",
       "    </tr>\n",
       "    <tr>\n",
       "      <th>799998</th>\n",
       "      <td>799998</td>\n",
       "      <td>21000</td>\n",
       "      <td>3</td>\n",
       "      <td>6.091765</td>\n",
       "      <td>568.563764</td>\n",
       "      <td>A</td>\n",
       "      <td>A4</td>\n",
       "      <td>151.0</td>\n",
       "      <td>98000.0</td>\n",
       "      <td>0</td>\n",
       "      <td>4</td>\n",
       "      <td>30.317779</td>\n",
       "      <td>673</td>\n",
       "      <td>17</td>\n",
       "      <td>69707</td>\n",
       "      <td>38</td>\n",
       "      <td>Jan-94</td>\n",
       "      <td>4.0</td>\n",
       "      <td>1</td>\n",
       "    </tr>\n",
       "    <tr>\n",
       "      <th>799999</th>\n",
       "      <td>799999</td>\n",
       "      <td>13000</td>\n",
       "      <td>3</td>\n",
       "      <td>12.513125</td>\n",
       "      <td>263.489194</td>\n",
       "      <td>B</td>\n",
       "      <td>B3</td>\n",
       "      <td>13.0</td>\n",
       "      <td>121000.0</td>\n",
       "      <td>0</td>\n",
       "      <td>4</td>\n",
       "      <td>8.628634</td>\n",
       "      <td>692</td>\n",
       "      <td>8</td>\n",
       "      <td>8421</td>\n",
       "      <td>14</td>\n",
       "      <td>2-Feb</td>\n",
       "      <td>4.0</td>\n",
       "      <td>1</td>\n",
       "    </tr>\n",
       "  </tbody>\n",
       "</table>\n",
       "<p>800000 rows × 19 columns</p>\n",
       "</div>"
      ],
      "text/plain": [
       "            id  loanAmnt  term  interestRate  installment grade subGrade  \\\n",
       "0            0     42000     5     21.674228   927.134668     E       E2   \n",
       "1            1     23000     5     15.036774   502.313142     D       D2   \n",
       "2            2     18000     5     17.850663   273.198985     D       D3   \n",
       "3            3     12000     3      7.400815   318.462279     A       A4   \n",
       "4            4      5000     3     15.688492    94.662335     C       C2   \n",
       "...        ...       ...   ...           ...          ...   ...      ...   \n",
       "799995  799995     26000     3     14.634214  1000.861120     C       C4   \n",
       "799996  799996     22000     3      7.103320   535.070316     A       A4   \n",
       "799997  799997      9000     3     12.471062   191.330483     C       C3   \n",
       "799998  799998     21000     3      6.091765   568.563764     A       A4   \n",
       "799999  799999     13000     3     12.513125   263.489194     B       B3   \n",
       "\n",
       "        employmentTitle  annualIncome  isDefault  purpose        dti  \\\n",
       "0                 320.0      111000.0          1        1  12.561763   \n",
       "1              219843.0       52000.0          0        0  28.313509   \n",
       "2               31698.0       77000.0          0        0  24.416141   \n",
       "3               46854.0      119000.0          0        4  19.105931   \n",
       "4                  54.0       35000.0          0       10  34.280791   \n",
       "...                 ...           ...        ...      ...        ...   \n",
       "799995           2659.0       76000.0          0        0  23.089648   \n",
       "799996          29205.0      102000.0          0        4  15.541106   \n",
       "799997           2582.0       67000.0          1        0  11.602060   \n",
       "799998            151.0       98000.0          0        4  30.317779   \n",
       "799999             13.0      121000.0          0        4   8.628634   \n",
       "\n",
       "        ficoRangeLow  openAcc  revolBal  totalAcc earliesCreditLine    title  \\\n",
       "0                728        8     24179        28             1-Aug      1.0   \n",
       "1                699       14     15101        20             2-May   1723.0   \n",
       "2                673       12      4610        29             6-May      0.0   \n",
       "3                682       10      9955        30            May-99      4.0   \n",
       "4                689       13      2944        29            Aug-77     11.0   \n",
       "...              ...      ...       ...       ...               ...      ...   \n",
       "799995           708       15      9938        16            11-Aug      0.0   \n",
       "799996           717        8     20478        45            May-89  33369.0   \n",
       "799997           668        6      6382        39             2-Jul      0.0   \n",
       "799998           673       17     69707        38            Jan-94      4.0   \n",
       "799999           692        8      8421        14             2-Feb      4.0   \n",
       "\n",
       "        policyCode  \n",
       "0                1  \n",
       "1                1  \n",
       "2                1  \n",
       "3                1  \n",
       "4                1  \n",
       "...            ...  \n",
       "799995           1  \n",
       "799996           1  \n",
       "799997           1  \n",
       "799998           1  \n",
       "799999           1  \n",
       "\n",
       "[800000 rows x 19 columns]"
      ]
     },
     "execution_count": 2,
     "metadata": {},
     "output_type": "execute_result"
    }
   ],
   "source": [
    "data = pd.read_csv(\"./data.csv\")\n",
    "data"
   ]
  },
  {
   "attachments": {},
   "cell_type": "markdown",
   "metadata": {},
   "source": [
    "This step is to check for missing data."
   ]
  },
  {
   "cell_type": "code",
   "execution_count": 3,
   "metadata": {},
   "outputs": [
    {
     "data": {
      "text/plain": [
       "id                     0\n",
       "loanAmnt               0\n",
       "term                   0\n",
       "interestRate           0\n",
       "installment            0\n",
       "grade                  0\n",
       "subGrade               0\n",
       "employmentTitle        1\n",
       "annualIncome           0\n",
       "isDefault              0\n",
       "purpose                0\n",
       "dti                  239\n",
       "ficoRangeLow           0\n",
       "openAcc                0\n",
       "revolBal               0\n",
       "totalAcc               0\n",
       "earliesCreditLine      0\n",
       "title                  1\n",
       "policyCode             0\n",
       "dtype: int64"
      ]
     },
     "execution_count": 3,
     "metadata": {},
     "output_type": "execute_result"
    }
   ],
   "source": [
    "data.isnull().sum()"
   ]
  },
  {
   "cell_type": "code",
   "execution_count": 4,
   "metadata": {},
   "outputs": [],
   "source": [
    "#Fill missing values with the median\n",
    "def refill(column):\n",
    "    return column.fillna(column.median(), inplace = True)"
   ]
  },
  {
   "cell_type": "code",
   "execution_count": 5,
   "metadata": {},
   "outputs": [],
   "source": [
    "refill(data['employmentTitle'])\n",
    "refill(data['dti'])\n",
    "refill(data['title'])"
   ]
  },
  {
   "attachments": {},
   "cell_type": "markdown",
   "metadata": {},
   "source": [
    "Check if there are still missing values."
   ]
  },
  {
   "cell_type": "code",
   "execution_count": 6,
   "metadata": {},
   "outputs": [
    {
     "data": {
      "text/plain": [
       "id                   0\n",
       "loanAmnt             0\n",
       "term                 0\n",
       "interestRate         0\n",
       "installment          0\n",
       "grade                0\n",
       "subGrade             0\n",
       "employmentTitle      0\n",
       "annualIncome         0\n",
       "isDefault            0\n",
       "purpose              0\n",
       "dti                  0\n",
       "ficoRangeLow         0\n",
       "openAcc              0\n",
       "revolBal             0\n",
       "totalAcc             0\n",
       "earliesCreditLine    0\n",
       "title                0\n",
       "policyCode           0\n",
       "dtype: int64"
      ]
     },
     "execution_count": 6,
     "metadata": {},
     "output_type": "execute_result"
    }
   ],
   "source": [
    "data.isnull().sum()"
   ]
  },
  {
   "cell_type": "code",
   "execution_count": 7,
   "metadata": {},
   "outputs": [
    {
     "data": {
      "text/html": [
       "<div>\n",
       "<style scoped>\n",
       "    .dataframe tbody tr th:only-of-type {\n",
       "        vertical-align: middle;\n",
       "    }\n",
       "\n",
       "    .dataframe tbody tr th {\n",
       "        vertical-align: top;\n",
       "    }\n",
       "\n",
       "    .dataframe thead th {\n",
       "        text-align: right;\n",
       "    }\n",
       "</style>\n",
       "<table border=\"1\" class=\"dataframe\">\n",
       "  <thead>\n",
       "    <tr style=\"text-align: right;\">\n",
       "      <th></th>\n",
       "      <th>id</th>\n",
       "      <th>loanAmnt</th>\n",
       "      <th>term</th>\n",
       "      <th>interestRate</th>\n",
       "      <th>installment</th>\n",
       "      <th>employmentTitle</th>\n",
       "      <th>annualIncome</th>\n",
       "      <th>isDefault</th>\n",
       "      <th>purpose</th>\n",
       "      <th>dti</th>\n",
       "      <th>ficoRangeLow</th>\n",
       "      <th>openAcc</th>\n",
       "      <th>revolBal</th>\n",
       "      <th>totalAcc</th>\n",
       "      <th>title</th>\n",
       "      <th>policyCode</th>\n",
       "    </tr>\n",
       "  </thead>\n",
       "  <tbody>\n",
       "    <tr>\n",
       "      <th>count</th>\n",
       "      <td>800000.000000</td>\n",
       "      <td>800000.000000</td>\n",
       "      <td>800000.000000</td>\n",
       "      <td>800000.000000</td>\n",
       "      <td>800000.000000</td>\n",
       "      <td>800000.000000</td>\n",
       "      <td>8.000000e+05</td>\n",
       "      <td>800000.000000</td>\n",
       "      <td>800000.000000</td>\n",
       "      <td>800000.000000</td>\n",
       "      <td>800000.000000</td>\n",
       "      <td>800000.000000</td>\n",
       "      <td>8.000000e+05</td>\n",
       "      <td>800000.000000</td>\n",
       "      <td>800000.000000</td>\n",
       "      <td>800000.0</td>\n",
       "    </tr>\n",
       "    <tr>\n",
       "      <th>mean</th>\n",
       "      <td>399999.500000</td>\n",
       "      <td>18248.716250</td>\n",
       "      <td>3.482745</td>\n",
       "      <td>13.238471</td>\n",
       "      <td>437.950502</td>\n",
       "      <td>72005.271401</td>\n",
       "      <td>8.012840e+04</td>\n",
       "      <td>0.199513</td>\n",
       "      <td>1.745982</td>\n",
       "      <td>18.287324</td>\n",
       "      <td>694.203934</td>\n",
       "      <td>12.598020</td>\n",
       "      <td>1.623271e+04</td>\n",
       "      <td>26.999851</td>\n",
       "      <td>1754.111398</td>\n",
       "      <td>1.0</td>\n",
       "    </tr>\n",
       "    <tr>\n",
       "      <th>std</th>\n",
       "      <td>230940.252013</td>\n",
       "      <td>8985.792531</td>\n",
       "      <td>0.855832</td>\n",
       "      <td>4.970289</td>\n",
       "      <td>266.346845</td>\n",
       "      <td>106585.597794</td>\n",
       "      <td>6.897560e+04</td>\n",
       "      <td>0.399634</td>\n",
       "      <td>2.367453</td>\n",
       "      <td>11.287893</td>\n",
       "      <td>31.875816</td>\n",
       "      <td>5.475286</td>\n",
       "      <td>2.245802e+04</td>\n",
       "      <td>12.027350</td>\n",
       "      <td>7941.469319</td>\n",
       "      <td>0.0</td>\n",
       "    </tr>\n",
       "    <tr>\n",
       "      <th>min</th>\n",
       "      <td>0.000000</td>\n",
       "      <td>1000.000000</td>\n",
       "      <td>3.000000</td>\n",
       "      <td>2.682407</td>\n",
       "      <td>15.710612</td>\n",
       "      <td>0.000000</td>\n",
       "      <td>1.000000e+03</td>\n",
       "      <td>0.000000</td>\n",
       "      <td>0.000000</td>\n",
       "      <td>-0.977029</td>\n",
       "      <td>629.000000</td>\n",
       "      <td>1.000000</td>\n",
       "      <td>1.000000e+00</td>\n",
       "      <td>3.000000</td>\n",
       "      <td>0.000000</td>\n",
       "      <td>1.0</td>\n",
       "    </tr>\n",
       "    <tr>\n",
       "      <th>25%</th>\n",
       "      <td>199999.750000</td>\n",
       "      <td>11000.000000</td>\n",
       "      <td>3.000000</td>\n",
       "      <td>9.538643</td>\n",
       "      <td>243.933920</td>\n",
       "      <td>427.000000</td>\n",
       "      <td>5.000000e+04</td>\n",
       "      <td>0.000000</td>\n",
       "      <td>0.000000</td>\n",
       "      <td>11.638924</td>\n",
       "      <td>669.000000</td>\n",
       "      <td>9.000000</td>\n",
       "      <td>5.948000e+03</td>\n",
       "      <td>18.000000</td>\n",
       "      <td>0.000000</td>\n",
       "      <td>1.0</td>\n",
       "    </tr>\n",
       "    <tr>\n",
       "      <th>50%</th>\n",
       "      <td>399999.500000</td>\n",
       "      <td>17000.000000</td>\n",
       "      <td>3.000000</td>\n",
       "      <td>12.670908</td>\n",
       "      <td>374.527621</td>\n",
       "      <td>7755.000000</td>\n",
       "      <td>6.855900e+04</td>\n",
       "      <td>0.000000</td>\n",
       "      <td>0.000000</td>\n",
       "      <td>17.476714</td>\n",
       "      <td>687.000000</td>\n",
       "      <td>12.000000</td>\n",
       "      <td>1.113600e+04</td>\n",
       "      <td>25.000000</td>\n",
       "      <td>1.000000</td>\n",
       "      <td>1.0</td>\n",
       "    </tr>\n",
       "    <tr>\n",
       "      <th>75%</th>\n",
       "      <td>599999.250000</td>\n",
       "      <td>24000.000000</td>\n",
       "      <td>3.000000</td>\n",
       "      <td>16.083954</td>\n",
       "      <td>578.828842</td>\n",
       "      <td>117663.250000</td>\n",
       "      <td>9.500000e+04</td>\n",
       "      <td>0.000000</td>\n",
       "      <td>4.000000</td>\n",
       "      <td>24.023989</td>\n",
       "      <td>709.000000</td>\n",
       "      <td>15.000000</td>\n",
       "      <td>1.973800e+04</td>\n",
       "      <td>34.000000</td>\n",
       "      <td>5.000000</td>\n",
       "      <td>1.0</td>\n",
       "    </tr>\n",
       "    <tr>\n",
       "      <th>max</th>\n",
       "      <td>799999.000000</td>\n",
       "      <td>47000.000000</td>\n",
       "      <td>5.000000</td>\n",
       "      <td>41.049813</td>\n",
       "      <td>1917.864031</td>\n",
       "      <td>378351.000000</td>\n",
       "      <td>1.100420e+07</td>\n",
       "      <td>1.000000</td>\n",
       "      <td>13.000000</td>\n",
       "      <td>1197.834723</td>\n",
       "      <td>844.000000</td>\n",
       "      <td>87.000000</td>\n",
       "      <td>2.904842e+06</td>\n",
       "      <td>165.000000</td>\n",
       "      <td>61680.000000</td>\n",
       "      <td>1.0</td>\n",
       "    </tr>\n",
       "  </tbody>\n",
       "</table>\n",
       "</div>"
      ],
      "text/plain": [
       "                  id       loanAmnt           term   interestRate  \\\n",
       "count  800000.000000  800000.000000  800000.000000  800000.000000   \n",
       "mean   399999.500000   18248.716250       3.482745      13.238471   \n",
       "std    230940.252013    8985.792531       0.855832       4.970289   \n",
       "min         0.000000    1000.000000       3.000000       2.682407   \n",
       "25%    199999.750000   11000.000000       3.000000       9.538643   \n",
       "50%    399999.500000   17000.000000       3.000000      12.670908   \n",
       "75%    599999.250000   24000.000000       3.000000      16.083954   \n",
       "max    799999.000000   47000.000000       5.000000      41.049813   \n",
       "\n",
       "         installment  employmentTitle  annualIncome      isDefault  \\\n",
       "count  800000.000000    800000.000000  8.000000e+05  800000.000000   \n",
       "mean      437.950502     72005.271401  8.012840e+04       0.199513   \n",
       "std       266.346845    106585.597794  6.897560e+04       0.399634   \n",
       "min        15.710612         0.000000  1.000000e+03       0.000000   \n",
       "25%       243.933920       427.000000  5.000000e+04       0.000000   \n",
       "50%       374.527621      7755.000000  6.855900e+04       0.000000   \n",
       "75%       578.828842    117663.250000  9.500000e+04       0.000000   \n",
       "max      1917.864031    378351.000000  1.100420e+07       1.000000   \n",
       "\n",
       "             purpose            dti   ficoRangeLow        openAcc  \\\n",
       "count  800000.000000  800000.000000  800000.000000  800000.000000   \n",
       "mean        1.745982      18.287324     694.203934      12.598020   \n",
       "std         2.367453      11.287893      31.875816       5.475286   \n",
       "min         0.000000      -0.977029     629.000000       1.000000   \n",
       "25%         0.000000      11.638924     669.000000       9.000000   \n",
       "50%         0.000000      17.476714     687.000000      12.000000   \n",
       "75%         4.000000      24.023989     709.000000      15.000000   \n",
       "max        13.000000    1197.834723     844.000000      87.000000   \n",
       "\n",
       "           revolBal       totalAcc          title  policyCode  \n",
       "count  8.000000e+05  800000.000000  800000.000000    800000.0  \n",
       "mean   1.623271e+04      26.999851    1754.111398         1.0  \n",
       "std    2.245802e+04      12.027350    7941.469319         0.0  \n",
       "min    1.000000e+00       3.000000       0.000000         1.0  \n",
       "25%    5.948000e+03      18.000000       0.000000         1.0  \n",
       "50%    1.113600e+04      25.000000       1.000000         1.0  \n",
       "75%    1.973800e+04      34.000000       5.000000         1.0  \n",
       "max    2.904842e+06     165.000000   61680.000000         1.0  "
      ]
     },
     "execution_count": 7,
     "metadata": {},
     "output_type": "execute_result"
    }
   ],
   "source": [
    "data.describe()"
   ]
  },
  {
   "attachments": {},
   "cell_type": "markdown",
   "metadata": {},
   "source": [
    "From the above table, we can see that there are outliers in the columns with large differences between the maximum value and the mean value or large differences between the distribution of most data. I think there's an outlier in the \"interestRate\", \"dti\" column."
   ]
  },
  {
   "cell_type": "markdown",
   "metadata": {},
   "source": [
    "Next, we use data visualization to observe the outliers in each column of data."
   ]
  },
  {
   "cell_type": "code",
   "execution_count": 8,
   "metadata": {},
   "outputs": [
    {
     "data": {
      "image/png": "[encoded data removed]",
      "text/plain": [
       "<Figure size 640x480 with 1 Axes>"
      ]
     },
     "metadata": {},
     "output_type": "display_data"
    }
   ],
   "source": [
    "sns.boxplot(x=data['loanAmnt'])\n",
    "plt.xlabel('Loan Amount')\n",
    "plt.title('Boxplot of Loan Amount')\n",
    "plt.show()"
   ]
  },
  {
   "cell_type": "code",
   "execution_count": 9,
   "metadata": {},
   "outputs": [
    {
     "data": {
      "image/png": "[encoded data removed]",
      "text/plain": [
       "<Figure size 640x480 with 1 Axes>"
      ]
     },
     "metadata": {},
     "output_type": "display_data"
    }
   ],
   "source": [
    "sns.boxplot(x=data['dti'])\n",
    "plt.xlabel('dti')\n",
    "plt.title('Boxplot of dti')\n",
    "plt.show()"
   ]
  },
  {
   "cell_type": "code",
   "execution_count": 10,
   "metadata": {},
   "outputs": [
    {
     "data": {
      "image/png": "[encoded data removed]",
      "text/plain": [
       "<Figure size 640x480 with 1 Axes>"
      ]
     },
     "metadata": {},
     "output_type": "display_data"
    }
   ],
   "source": [
    "sns.boxplot(x=data['interestRate'])\n",
    "plt.xlabel('interestRate')\n",
    "plt.title('Boxplot of interestRate')\n",
    "plt.show()"
   ]
  },
  {
   "cell_type": "code",
   "execution_count": 11,
   "metadata": {},
   "outputs": [
    {
     "data": {
      "image/png": "[encoded data removed]",
      "text/plain": [
       "<Figure size 640x480 with 1 Axes>"
      ]
     },
     "metadata": {},
     "output_type": "display_data"
    }
   ],
   "source": [
    "sns.boxplot(x=data['ficoRangeLow'])\n",
    "plt.xlabel('ficoRangeLow')\n",
    "plt.title('Boxplot of ficoRangeLow')\n",
    "plt.show()"
   ]
  },
  {
   "attachments": {},
   "cell_type": "markdown",
   "metadata": {},
   "source": [
    "Through the boxplot, it can be found that there are outliers in the columns of \"interestRate \",\" dti\", \"loanAmnt\", and \"ficoRangeLow \"."
   ]
  },
  {
   "attachments": {},
   "cell_type": "markdown",
   "metadata": {},
   "source": [
    "Changes the numeric type of a column to a floating-point type."
   ]
  },
  {
   "cell_type": "code",
   "execution_count": 12,
   "metadata": {},
   "outputs": [],
   "source": [
    "data[\"loanAmnt\"] = data[\"loanAmnt\"].astype(float)\n",
    "data[\"interestRate\"] = data[\"interestRate\"].astype(float)\n",
    "data[\"installment\"] = data[\"installment\"].astype(float)\n",
    "data[\"annualIncome\"] = data[\"annualIncome\"].astype(float)\n",
    "data[\"dti\"] = data[\"dti\"].astype(float)\n",
    "\n"
   ]
  },
  {
   "attachments": {},
   "cell_type": "markdown",
   "metadata": {},
   "source": [
    "Turns the numeric type of a column into an integer."
   ]
  },
  {
   "cell_type": "code",
   "execution_count": 13,
   "metadata": {},
   "outputs": [],
   "source": [
    "data[\"isDefault\"] = data[\"isDefault\"].astype(int)\n",
    "data[\"ficoRangeLow\"] = data[\"ficoRangeLow\"].astype(int)\n",
    "data[\"term\"] = data[\"term\"].astype(int)\n",
    "data[\"policyCode\"] = data[\"policyCode\"].astype(int)\n",
    "data[\"openAcc\"] = data[\"openAcc\"].astype(int)\n",
    "data[\"revolBal\"] = data[\"revolBal\"].astype(int)\n"
   ]
  },
  {
   "cell_type": "code",
   "execution_count": 14,
   "metadata": {},
   "outputs": [],
   "source": [
    "data[\"title\"] = data[\"title\"].astype(str)\n",
    "data[\"purpose\"] = data[\"purpose\"].astype(str)\n",
    "data[\"employmentTitle\"] = data[\"employmentTitle\"].astype(str)"
   ]
  },
  {
   "cell_type": "code",
   "execution_count": 15,
   "metadata": {},
   "outputs": [],
   "source": [
    "def checktype(column):\n",
    "    answer = []\n",
    "    for i in data.get(column):\n",
    "        if type(i) != int:\n",
    "            answer.append(i)\n",
    "    return answer\n",
    "            "
   ]
  },
  {
   "cell_type": "code",
   "execution_count": 16,
   "metadata": {},
   "outputs": [
    {
     "data": {
      "text/html": [
       "<div>\n",
       "<style scoped>\n",
       "    .dataframe tbody tr th:only-of-type {\n",
       "        vertical-align: middle;\n",
       "    }\n",
       "\n",
       "    .dataframe tbody tr th {\n",
       "        vertical-align: top;\n",
       "    }\n",
       "\n",
       "    .dataframe thead th {\n",
       "        text-align: right;\n",
       "    }\n",
       "</style>\n",
       "<table border=\"1\" class=\"dataframe\">\n",
       "  <thead>\n",
       "    <tr style=\"text-align: right;\">\n",
       "      <th></th>\n",
       "      <th>id</th>\n",
       "      <th>loanAmnt</th>\n",
       "      <th>term</th>\n",
       "      <th>interestRate</th>\n",
       "      <th>installment</th>\n",
       "      <th>grade</th>\n",
       "      <th>subGrade</th>\n",
       "      <th>employmentTitle</th>\n",
       "      <th>annualIncome</th>\n",
       "      <th>isDefault</th>\n",
       "      <th>purpose</th>\n",
       "      <th>dti</th>\n",
       "      <th>ficoRangeLow</th>\n",
       "      <th>openAcc</th>\n",
       "      <th>revolBal</th>\n",
       "      <th>totalAcc</th>\n",
       "      <th>earliesCreditLine</th>\n",
       "      <th>title</th>\n",
       "      <th>policyCode</th>\n",
       "    </tr>\n",
       "  </thead>\n",
       "  <tbody>\n",
       "    <tr>\n",
       "      <th>0</th>\n",
       "      <td>0</td>\n",
       "      <td>42000.0</td>\n",
       "      <td>5</td>\n",
       "      <td>21.674228</td>\n",
       "      <td>927.134668</td>\n",
       "      <td>E</td>\n",
       "      <td>E2</td>\n",
       "      <td>320.0</td>\n",
       "      <td>111000.0</td>\n",
       "      <td>1</td>\n",
       "      <td>1</td>\n",
       "      <td>12.561763</td>\n",
       "      <td>728</td>\n",
       "      <td>8</td>\n",
       "      <td>24179</td>\n",
       "      <td>28</td>\n",
       "      <td>1-Aug</td>\n",
       "      <td>1.0</td>\n",
       "      <td>1</td>\n",
       "    </tr>\n",
       "    <tr>\n",
       "      <th>1</th>\n",
       "      <td>1</td>\n",
       "      <td>23000.0</td>\n",
       "      <td>5</td>\n",
       "      <td>15.036774</td>\n",
       "      <td>502.313142</td>\n",
       "      <td>D</td>\n",
       "      <td>D2</td>\n",
       "      <td>219843.0</td>\n",
       "      <td>52000.0</td>\n",
       "      <td>0</td>\n",
       "      <td>0</td>\n",
       "      <td>28.313509</td>\n",
       "      <td>699</td>\n",
       "      <td>14</td>\n",
       "      <td>15101</td>\n",
       "      <td>20</td>\n",
       "      <td>2-May</td>\n",
       "      <td>1723.0</td>\n",
       "      <td>1</td>\n",
       "    </tr>\n",
       "    <tr>\n",
       "      <th>2</th>\n",
       "      <td>2</td>\n",
       "      <td>18000.0</td>\n",
       "      <td>5</td>\n",
       "      <td>17.850663</td>\n",
       "      <td>273.198985</td>\n",
       "      <td>D</td>\n",
       "      <td>D3</td>\n",
       "      <td>31698.0</td>\n",
       "      <td>77000.0</td>\n",
       "      <td>0</td>\n",
       "      <td>0</td>\n",
       "      <td>24.416141</td>\n",
       "      <td>673</td>\n",
       "      <td>12</td>\n",
       "      <td>4610</td>\n",
       "      <td>29</td>\n",
       "      <td>6-May</td>\n",
       "      <td>0.0</td>\n",
       "      <td>1</td>\n",
       "    </tr>\n",
       "    <tr>\n",
       "      <th>3</th>\n",
       "      <td>3</td>\n",
       "      <td>12000.0</td>\n",
       "      <td>3</td>\n",
       "      <td>7.400815</td>\n",
       "      <td>318.462279</td>\n",
       "      <td>A</td>\n",
       "      <td>A4</td>\n",
       "      <td>46854.0</td>\n",
       "      <td>119000.0</td>\n",
       "      <td>0</td>\n",
       "      <td>4</td>\n",
       "      <td>19.105931</td>\n",
       "      <td>682</td>\n",
       "      <td>10</td>\n",
       "      <td>9955</td>\n",
       "      <td>30</td>\n",
       "      <td>May-99</td>\n",
       "      <td>4.0</td>\n",
       "      <td>1</td>\n",
       "    </tr>\n",
       "    <tr>\n",
       "      <th>4</th>\n",
       "      <td>4</td>\n",
       "      <td>5000.0</td>\n",
       "      <td>3</td>\n",
       "      <td>15.688492</td>\n",
       "      <td>94.662335</td>\n",
       "      <td>C</td>\n",
       "      <td>C2</td>\n",
       "      <td>54.0</td>\n",
       "      <td>35000.0</td>\n",
       "      <td>0</td>\n",
       "      <td>10</td>\n",
       "      <td>34.280791</td>\n",
       "      <td>689</td>\n",
       "      <td>13</td>\n",
       "      <td>2944</td>\n",
       "      <td>29</td>\n",
       "      <td>Aug-77</td>\n",
       "      <td>11.0</td>\n",
       "      <td>1</td>\n",
       "    </tr>\n",
       "    <tr>\n",
       "      <th>...</th>\n",
       "      <td>...</td>\n",
       "      <td>...</td>\n",
       "      <td>...</td>\n",
       "      <td>...</td>\n",
       "      <td>...</td>\n",
       "      <td>...</td>\n",
       "      <td>...</td>\n",
       "      <td>...</td>\n",
       "      <td>...</td>\n",
       "      <td>...</td>\n",
       "      <td>...</td>\n",
       "      <td>...</td>\n",
       "      <td>...</td>\n",
       "      <td>...</td>\n",
       "      <td>...</td>\n",
       "      <td>...</td>\n",
       "      <td>...</td>\n",
       "      <td>...</td>\n",
       "      <td>...</td>\n",
       "    </tr>\n",
       "    <tr>\n",
       "      <th>799995</th>\n",
       "      <td>799995</td>\n",
       "      <td>26000.0</td>\n",
       "      <td>3</td>\n",
       "      <td>14.634214</td>\n",
       "      <td>1000.861120</td>\n",
       "      <td>C</td>\n",
       "      <td>C4</td>\n",
       "      <td>2659.0</td>\n",
       "      <td>76000.0</td>\n",
       "      <td>0</td>\n",
       "      <td>0</td>\n",
       "      <td>23.089648</td>\n",
       "      <td>708</td>\n",
       "      <td>15</td>\n",
       "      <td>9938</td>\n",
       "      <td>16</td>\n",
       "      <td>11-Aug</td>\n",
       "      <td>0.0</td>\n",
       "      <td>1</td>\n",
       "    </tr>\n",
       "    <tr>\n",
       "      <th>799996</th>\n",
       "      <td>799996</td>\n",
       "      <td>22000.0</td>\n",
       "      <td>3</td>\n",
       "      <td>7.103320</td>\n",
       "      <td>535.070316</td>\n",
       "      <td>A</td>\n",
       "      <td>A4</td>\n",
       "      <td>29205.0</td>\n",
       "      <td>102000.0</td>\n",
       "      <td>0</td>\n",
       "      <td>4</td>\n",
       "      <td>15.541106</td>\n",
       "      <td>717</td>\n",
       "      <td>8</td>\n",
       "      <td>20478</td>\n",
       "      <td>45</td>\n",
       "      <td>May-89</td>\n",
       "      <td>33369.0</td>\n",
       "      <td>1</td>\n",
       "    </tr>\n",
       "    <tr>\n",
       "      <th>799997</th>\n",
       "      <td>799997</td>\n",
       "      <td>9000.0</td>\n",
       "      <td>3</td>\n",
       "      <td>12.471062</td>\n",
       "      <td>191.330483</td>\n",
       "      <td>C</td>\n",
       "      <td>C3</td>\n",
       "      <td>2582.0</td>\n",
       "      <td>67000.0</td>\n",
       "      <td>1</td>\n",
       "      <td>0</td>\n",
       "      <td>11.602060</td>\n",
       "      <td>668</td>\n",
       "      <td>6</td>\n",
       "      <td>6382</td>\n",
       "      <td>39</td>\n",
       "      <td>2-Jul</td>\n",
       "      <td>0.0</td>\n",
       "      <td>1</td>\n",
       "    </tr>\n",
       "    <tr>\n",
       "      <th>799998</th>\n",
       "      <td>799998</td>\n",
       "      <td>21000.0</td>\n",
       "      <td>3</td>\n",
       "      <td>6.091765</td>\n",
       "      <td>568.563764</td>\n",
       "      <td>A</td>\n",
       "      <td>A4</td>\n",
       "      <td>151.0</td>\n",
       "      <td>98000.0</td>\n",
       "      <td>0</td>\n",
       "      <td>4</td>\n",
       "      <td>30.317779</td>\n",
       "      <td>673</td>\n",
       "      <td>17</td>\n",
       "      <td>69707</td>\n",
       "      <td>38</td>\n",
       "      <td>Jan-94</td>\n",
       "      <td>4.0</td>\n",
       "      <td>1</td>\n",
       "    </tr>\n",
       "    <tr>\n",
       "      <th>799999</th>\n",
       "      <td>799999</td>\n",
       "      <td>13000.0</td>\n",
       "      <td>3</td>\n",
       "      <td>12.513125</td>\n",
       "      <td>263.489194</td>\n",
       "      <td>B</td>\n",
       "      <td>B3</td>\n",
       "      <td>13.0</td>\n",
       "      <td>121000.0</td>\n",
       "      <td>0</td>\n",
       "      <td>4</td>\n",
       "      <td>8.628634</td>\n",
       "      <td>692</td>\n",
       "      <td>8</td>\n",
       "      <td>8421</td>\n",
       "      <td>14</td>\n",
       "      <td>2-Feb</td>\n",
       "      <td>4.0</td>\n",
       "      <td>1</td>\n",
       "    </tr>\n",
       "  </tbody>\n",
       "</table>\n",
       "<p>800000 rows × 19 columns</p>\n",
       "</div>"
      ],
      "text/plain": [
       "            id  loanAmnt  term  interestRate  installment grade subGrade  \\\n",
       "0            0   42000.0     5     21.674228   927.134668     E       E2   \n",
       "1            1   23000.0     5     15.036774   502.313142     D       D2   \n",
       "2            2   18000.0     5     17.850663   273.198985     D       D3   \n",
       "3            3   12000.0     3      7.400815   318.462279     A       A4   \n",
       "4            4    5000.0     3     15.688492    94.662335     C       C2   \n",
       "...        ...       ...   ...           ...          ...   ...      ...   \n",
       "799995  799995   26000.0     3     14.634214  1000.861120     C       C4   \n",
       "799996  799996   22000.0     3      7.103320   535.070316     A       A4   \n",
       "799997  799997    9000.0     3     12.471062   191.330483     C       C3   \n",
       "799998  799998   21000.0     3      6.091765   568.563764     A       A4   \n",
       "799999  799999   13000.0     3     12.513125   263.489194     B       B3   \n",
       "\n",
       "       employmentTitle  annualIncome  isDefault purpose        dti  \\\n",
       "0                320.0      111000.0          1       1  12.561763   \n",
       "1             219843.0       52000.0          0       0  28.313509   \n",
       "2              31698.0       77000.0          0       0  24.416141   \n",
       "3              46854.0      119000.0          0       4  19.105931   \n",
       "4                 54.0       35000.0          0      10  34.280791   \n",
       "...                ...           ...        ...     ...        ...   \n",
       "799995          2659.0       76000.0          0       0  23.089648   \n",
       "799996         29205.0      102000.0          0       4  15.541106   \n",
       "799997          2582.0       67000.0          1       0  11.602060   \n",
       "799998           151.0       98000.0          0       4  30.317779   \n",
       "799999            13.0      121000.0          0       4   8.628634   \n",
       "\n",
       "        ficoRangeLow  openAcc  revolBal  totalAcc earliesCreditLine    title  \\\n",
       "0                728        8     24179        28             1-Aug      1.0   \n",
       "1                699       14     15101        20             2-May   1723.0   \n",
       "2                673       12      4610        29             6-May      0.0   \n",
       "3                682       10      9955        30            May-99      4.0   \n",
       "4                689       13      2944        29            Aug-77     11.0   \n",
       "...              ...      ...       ...       ...               ...      ...   \n",
       "799995           708       15      9938        16            11-Aug      0.0   \n",
       "799996           717        8     20478        45            May-89  33369.0   \n",
       "799997           668        6      6382        39             2-Jul      0.0   \n",
       "799998           673       17     69707        38            Jan-94      4.0   \n",
       "799999           692        8      8421        14             2-Feb      4.0   \n",
       "\n",
       "        policyCode  \n",
       "0                1  \n",
       "1                1  \n",
       "2                1  \n",
       "3                1  \n",
       "4                1  \n",
       "...            ...  \n",
       "799995           1  \n",
       "799996           1  \n",
       "799997           1  \n",
       "799998           1  \n",
       "799999           1  \n",
       "\n",
       "[800000 rows x 19 columns]"
      ]
     },
     "execution_count": 16,
     "metadata": {},
     "output_type": "execute_result"
    }
   ],
   "source": [
    "data\n"
   ]
  },
  {
   "attachments": {},
   "cell_type": "markdown",
   "metadata": {},
   "source": [
    "The number of unique values for each column can be obtained with the following code."
   ]
  },
  {
   "cell_type": "code",
   "execution_count": 17,
   "metadata": {},
   "outputs": [
    {
     "data": {
      "text/plain": [
       "id                   800000\n",
       "loanAmnt                 47\n",
       "term                      2\n",
       "interestRate         799864\n",
       "installment          799954\n",
       "grade                     7\n",
       "subGrade                 35\n",
       "employmentTitle      248683\n",
       "annualIncome          48493\n",
       "isDefault                 2\n",
       "purpose                  14\n",
       "dti                  799171\n",
       "ficoRangeLow            115\n",
       "openAcc                  75\n",
       "revolBal              71161\n",
       "totalAcc                138\n",
       "earliesCreditLine       720\n",
       "title                 39644\n",
       "policyCode                1\n",
       "dtype: int64"
      ]
     },
     "execution_count": 17,
     "metadata": {},
     "output_type": "execute_result"
    }
   ],
   "source": [
    "data_unique = data.nunique()\n",
    "data_unique"
   ]
  },
  {
   "cell_type": "code",
   "execution_count": 18,
   "metadata": {},
   "outputs": [
    {
     "data": {
      "image/png": "[encoded data removed]",
      "text/plain": [
       "<Figure size 640x480 with 1 Axes>"
      ]
     },
     "metadata": {},
     "output_type": "display_data"
    }
   ],
   "source": [
    "plt.hist(data['loanAmnt'], bins=50, edgecolor='k')\n",
    "plt.xlabel('Loan Amount')\n",
    "plt.ylabel('Frequency')\n",
    "plt.title('Distribution of Loan Amount')\n",
    "plt.show()"
   ]
  },
  {
   "cell_type": "code",
   "execution_count": 19,
   "metadata": {},
   "outputs": [
    {
     "data": {
      "image/png": "[encoded data removed]",
      "text/plain": [
       "<Figure size 640x480 with 1 Axes>"
      ]
     },
     "metadata": {},
     "output_type": "display_data"
    }
   ],
   "source": [
    "plt.hist(data['grade'], bins=7, edgecolor='k')\n",
    "plt.xlabel('grade')\n",
    "plt.ylabel('Frequency')\n",
    "plt.title('Distribution of grade')\n",
    "plt.show()"
   ]
  },
  {
   "cell_type": "code",
   "execution_count": 20,
   "metadata": {},
   "outputs": [
    {
     "data": {
      "image/png": "[encoded data removed]",
      "text/plain": [
       "<Figure size 640x480 with 1 Axes>"
      ]
     },
     "metadata": {},
     "output_type": "display_data"
    }
   ],
   "source": [
    "plt.hist(data['subGrade'], bins=35, edgecolor='k')\n",
    "plt.xlabel('subGrade')\n",
    "plt.ylabel('Frequency')\n",
    "plt.title('Distribution of subGrade')\n",
    "plt.show()"
   ]
  },
  {
   "attachments": {},
   "cell_type": "markdown",
   "metadata": {},
   "source": [
    "The next step is to see if the columns with more than two unique values are high-dimensional and sparse. The following function can be used to look at the type of each column, so as to determine whether the column is high-dimensional and sparse."
   ]
  },
  {
   "cell_type": "code",
   "execution_count": 21,
   "metadata": {},
   "outputs": [],
   "source": [
    "def check(column):\n",
    "    c=data.groupby(column).count()\n",
    "    return c"
   ]
  },
  {
   "attachments": {},
   "cell_type": "markdown",
   "metadata": {},
   "source": [
    "By analyzing \"earliesCreditLine\" and \"subGrade\", the number of types of these two columns is greater than 2, they are not high-dimensional sparse, and they are pure classification features, so we can delete these two columns. In addition, you can also remove the \"policyCode\" and \"id\" columns, because there is only one value in the \"policyCode\" column, which I think is not very helpful for later analysis, and the \"id\" column is the same as the index, so it is not helpful for later analysis."
   ]
  },
  {
   "cell_type": "code",
   "execution_count": 22,
   "metadata": {},
   "outputs": [
    {
     "data": {
      "text/html": [
       "<div>\n",
       "<style scoped>\n",
       "    .dataframe tbody tr th:only-of-type {\n",
       "        vertical-align: middle;\n",
       "    }\n",
       "\n",
       "    .dataframe tbody tr th {\n",
       "        vertical-align: top;\n",
       "    }\n",
       "\n",
       "    .dataframe thead th {\n",
       "        text-align: right;\n",
       "    }\n",
       "</style>\n",
       "<table border=\"1\" class=\"dataframe\">\n",
       "  <thead>\n",
       "    <tr style=\"text-align: right;\">\n",
       "      <th></th>\n",
       "      <th>loanAmnt</th>\n",
       "      <th>term</th>\n",
       "      <th>interestRate</th>\n",
       "      <th>installment</th>\n",
       "      <th>grade</th>\n",
       "      <th>employmentTitle</th>\n",
       "      <th>annualIncome</th>\n",
       "      <th>isDefault</th>\n",
       "      <th>purpose</th>\n",
       "      <th>dti</th>\n",
       "      <th>ficoRangeLow</th>\n",
       "      <th>openAcc</th>\n",
       "      <th>revolBal</th>\n",
       "      <th>totalAcc</th>\n",
       "      <th>title</th>\n",
       "    </tr>\n",
       "  </thead>\n",
       "  <tbody>\n",
       "    <tr>\n",
       "      <th>0</th>\n",
       "      <td>42000.0</td>\n",
       "      <td>5</td>\n",
       "      <td>21.674228</td>\n",
       "      <td>927.134668</td>\n",
       "      <td>E</td>\n",
       "      <td>320.0</td>\n",
       "      <td>111000.0</td>\n",
       "      <td>1</td>\n",
       "      <td>1</td>\n",
       "      <td>12.561763</td>\n",
       "      <td>728</td>\n",
       "      <td>8</td>\n",
       "      <td>24179</td>\n",
       "      <td>28</td>\n",
       "      <td>1.0</td>\n",
       "    </tr>\n",
       "    <tr>\n",
       "      <th>1</th>\n",
       "      <td>23000.0</td>\n",
       "      <td>5</td>\n",
       "      <td>15.036774</td>\n",
       "      <td>502.313142</td>\n",
       "      <td>D</td>\n",
       "      <td>219843.0</td>\n",
       "      <td>52000.0</td>\n",
       "      <td>0</td>\n",
       "      <td>0</td>\n",
       "      <td>28.313509</td>\n",
       "      <td>699</td>\n",
       "      <td>14</td>\n",
       "      <td>15101</td>\n",
       "      <td>20</td>\n",
       "      <td>1723.0</td>\n",
       "    </tr>\n",
       "    <tr>\n",
       "      <th>2</th>\n",
       "      <td>18000.0</td>\n",
       "      <td>5</td>\n",
       "      <td>17.850663</td>\n",
       "      <td>273.198985</td>\n",
       "      <td>D</td>\n",
       "      <td>31698.0</td>\n",
       "      <td>77000.0</td>\n",
       "      <td>0</td>\n",
       "      <td>0</td>\n",
       "      <td>24.416141</td>\n",
       "      <td>673</td>\n",
       "      <td>12</td>\n",
       "      <td>4610</td>\n",
       "      <td>29</td>\n",
       "      <td>0.0</td>\n",
       "    </tr>\n",
       "    <tr>\n",
       "      <th>3</th>\n",
       "      <td>12000.0</td>\n",
       "      <td>3</td>\n",
       "      <td>7.400815</td>\n",
       "      <td>318.462279</td>\n",
       "      <td>A</td>\n",
       "      <td>46854.0</td>\n",
       "      <td>119000.0</td>\n",
       "      <td>0</td>\n",
       "      <td>4</td>\n",
       "      <td>19.105931</td>\n",
       "      <td>682</td>\n",
       "      <td>10</td>\n",
       "      <td>9955</td>\n",
       "      <td>30</td>\n",
       "      <td>4.0</td>\n",
       "    </tr>\n",
       "    <tr>\n",
       "      <th>4</th>\n",
       "      <td>5000.0</td>\n",
       "      <td>3</td>\n",
       "      <td>15.688492</td>\n",
       "      <td>94.662335</td>\n",
       "      <td>C</td>\n",
       "      <td>54.0</td>\n",
       "      <td>35000.0</td>\n",
       "      <td>0</td>\n",
       "      <td>10</td>\n",
       "      <td>34.280791</td>\n",
       "      <td>689</td>\n",
       "      <td>13</td>\n",
       "      <td>2944</td>\n",
       "      <td>29</td>\n",
       "      <td>11.0</td>\n",
       "    </tr>\n",
       "    <tr>\n",
       "      <th>...</th>\n",
       "      <td>...</td>\n",
       "      <td>...</td>\n",
       "      <td>...</td>\n",
       "      <td>...</td>\n",
       "      <td>...</td>\n",
       "      <td>...</td>\n",
       "      <td>...</td>\n",
       "      <td>...</td>\n",
       "      <td>...</td>\n",
       "      <td>...</td>\n",
       "      <td>...</td>\n",
       "      <td>...</td>\n",
       "      <td>...</td>\n",
       "      <td>...</td>\n",
       "      <td>...</td>\n",
       "    </tr>\n",
       "    <tr>\n",
       "      <th>799995</th>\n",
       "      <td>26000.0</td>\n",
       "      <td>3</td>\n",
       "      <td>14.634214</td>\n",
       "      <td>1000.861120</td>\n",
       "      <td>C</td>\n",
       "      <td>2659.0</td>\n",
       "      <td>76000.0</td>\n",
       "      <td>0</td>\n",
       "      <td>0</td>\n",
       "      <td>23.089648</td>\n",
       "      <td>708</td>\n",
       "      <td>15</td>\n",
       "      <td>9938</td>\n",
       "      <td>16</td>\n",
       "      <td>0.0</td>\n",
       "    </tr>\n",
       "    <tr>\n",
       "      <th>799996</th>\n",
       "      <td>22000.0</td>\n",
       "      <td>3</td>\n",
       "      <td>7.103320</td>\n",
       "      <td>535.070316</td>\n",
       "      <td>A</td>\n",
       "      <td>29205.0</td>\n",
       "      <td>102000.0</td>\n",
       "      <td>0</td>\n",
       "      <td>4</td>\n",
       "      <td>15.541106</td>\n",
       "      <td>717</td>\n",
       "      <td>8</td>\n",
       "      <td>20478</td>\n",
       "      <td>45</td>\n",
       "      <td>33369.0</td>\n",
       "    </tr>\n",
       "    <tr>\n",
       "      <th>799997</th>\n",
       "      <td>9000.0</td>\n",
       "      <td>3</td>\n",
       "      <td>12.471062</td>\n",
       "      <td>191.330483</td>\n",
       "      <td>C</td>\n",
       "      <td>2582.0</td>\n",
       "      <td>67000.0</td>\n",
       "      <td>1</td>\n",
       "      <td>0</td>\n",
       "      <td>11.602060</td>\n",
       "      <td>668</td>\n",
       "      <td>6</td>\n",
       "      <td>6382</td>\n",
       "      <td>39</td>\n",
       "      <td>0.0</td>\n",
       "    </tr>\n",
       "    <tr>\n",
       "      <th>799998</th>\n",
       "      <td>21000.0</td>\n",
       "      <td>3</td>\n",
       "      <td>6.091765</td>\n",
       "      <td>568.563764</td>\n",
       "      <td>A</td>\n",
       "      <td>151.0</td>\n",
       "      <td>98000.0</td>\n",
       "      <td>0</td>\n",
       "      <td>4</td>\n",
       "      <td>30.317779</td>\n",
       "      <td>673</td>\n",
       "      <td>17</td>\n",
       "      <td>69707</td>\n",
       "      <td>38</td>\n",
       "      <td>4.0</td>\n",
       "    </tr>\n",
       "    <tr>\n",
       "      <th>799999</th>\n",
       "      <td>13000.0</td>\n",
       "      <td>3</td>\n",
       "      <td>12.513125</td>\n",
       "      <td>263.489194</td>\n",
       "      <td>B</td>\n",
       "      <td>13.0</td>\n",
       "      <td>121000.0</td>\n",
       "      <td>0</td>\n",
       "      <td>4</td>\n",
       "      <td>8.628634</td>\n",
       "      <td>692</td>\n",
       "      <td>8</td>\n",
       "      <td>8421</td>\n",
       "      <td>14</td>\n",
       "      <td>4.0</td>\n",
       "    </tr>\n",
       "  </tbody>\n",
       "</table>\n",
       "<p>800000 rows × 15 columns</p>\n",
       "</div>"
      ],
      "text/plain": [
       "        loanAmnt  term  interestRate  installment grade employmentTitle  \\\n",
       "0        42000.0     5     21.674228   927.134668     E           320.0   \n",
       "1        23000.0     5     15.036774   502.313142     D        219843.0   \n",
       "2        18000.0     5     17.850663   273.198985     D         31698.0   \n",
       "3        12000.0     3      7.400815   318.462279     A         46854.0   \n",
       "4         5000.0     3     15.688492    94.662335     C            54.0   \n",
       "...          ...   ...           ...          ...   ...             ...   \n",
       "799995   26000.0     3     14.634214  1000.861120     C          2659.0   \n",
       "799996   22000.0     3      7.103320   535.070316     A         29205.0   \n",
       "799997    9000.0     3     12.471062   191.330483     C          2582.0   \n",
       "799998   21000.0     3      6.091765   568.563764     A           151.0   \n",
       "799999   13000.0     3     12.513125   263.489194     B            13.0   \n",
       "\n",
       "        annualIncome  isDefault purpose        dti  ficoRangeLow  openAcc  \\\n",
       "0           111000.0          1       1  12.561763           728        8   \n",
       "1            52000.0          0       0  28.313509           699       14   \n",
       "2            77000.0          0       0  24.416141           673       12   \n",
       "3           119000.0          0       4  19.105931           682       10   \n",
       "4            35000.0          0      10  34.280791           689       13   \n",
       "...              ...        ...     ...        ...           ...      ...   \n",
       "799995       76000.0          0       0  23.089648           708       15   \n",
       "799996      102000.0          0       4  15.541106           717        8   \n",
       "799997       67000.0          1       0  11.602060           668        6   \n",
       "799998       98000.0          0       4  30.317779           673       17   \n",
       "799999      121000.0          0       4   8.628634           692        8   \n",
       "\n",
       "        revolBal  totalAcc    title  \n",
       "0          24179        28      1.0  \n",
       "1          15101        20   1723.0  \n",
       "2           4610        29      0.0  \n",
       "3           9955        30      4.0  \n",
       "4           2944        29     11.0  \n",
       "...          ...       ...      ...  \n",
       "799995      9938        16      0.0  \n",
       "799996     20478        45  33369.0  \n",
       "799997      6382        39      0.0  \n",
       "799998     69707        38      4.0  \n",
       "799999      8421        14      4.0  \n",
       "\n",
       "[800000 rows x 15 columns]"
      ]
     },
     "execution_count": 22,
     "metadata": {},
     "output_type": "execute_result"
    }
   ],
   "source": [
    "new_data = data.drop(columns=[\"earliesCreditLine\", \"subGrade\", \"policyCode\",\"id\"])\n",
    "new_data"
   ]
  },
  {
   "attachments": {},
   "cell_type": "markdown",
   "metadata": {},
   "source": [
    "Before we can learn the various algorithms, we first need to convert the \"grade\" column to a numeric type."
   ]
  },
  {
   "cell_type": "code",
   "execution_count": 23,
   "metadata": {},
   "outputs": [],
   "source": [
    "ohe=OneHotEncoder(handle_unknown='ignore')\n",
    "ohe_column = ohe.fit_transform(new_data[[\"grade\"]]).toarray()\n",
    "standard = StandardScaler()\n",
    "standardized = standard.fit_transform(new_data[[\"loanAmnt\", \"term\", \"interestRate\", \"installment\", \n",
    "                                                \"employmentTitle\", \"annualIncome\", \n",
    "                                                \"purpose\", \"dti\", \"ficoRangeLow\", \n",
    "                                                \"openAcc\", \"revolBal\", \"totalAcc\", \"title\",\"isDefault\"]])"
   ]
  },
  {
   "attachments": {},
   "cell_type": "markdown",
   "metadata": {},
   "source": [
    "Standardize and normalize the data."
   ]
  },
  {
   "cell_type": "code",
   "execution_count": 24,
   "metadata": {},
   "outputs": [],
   "source": [
    "\n",
    "with open('ohe.pkl', 'wb') as ohe_file:\n",
    "    pickle.dump(ohe, ohe_file)\n",
    "\n",
    "with open('standard.pkl', 'wb') as standard_file:\n",
    "    pickle.dump(standard, standard_file)\n"
   ]
  },
  {
   "attachments": {},
   "cell_type": "markdown",
   "metadata": {},
   "source": [
    "Put each column of processed data back together."
   ]
  },
  {
   "cell_type": "code",
   "execution_count": 25,
   "metadata": {},
   "outputs": [
    {
     "data": {
      "text/plain": [
       "(800000, 21)"
      ]
     },
     "execution_count": 25,
     "metadata": {},
     "output_type": "execute_result"
    }
   ],
   "source": [
    "new_data2 = np.hstack([ohe_column,standardized])\n",
    "new_data2.shape"
   ]
  },
  {
   "cell_type": "code",
   "execution_count": 26,
   "metadata": {},
   "outputs": [
    {
     "data": {
      "text/plain": [
       "(800000,)"
      ]
     },
     "execution_count": 26,
     "metadata": {},
     "output_type": "execute_result"
    }
   ],
   "source": [
    "X = new_data2[:,:-1]\n",
    "y = new_data2[:,-1]\n",
    "y.shape"
   ]
  },
  {
   "attachments": {},
   "cell_type": "markdown",
   "metadata": {},
   "source": [
    "\n",
    "GBDT algorithm learning.\n"
   ]
  },
  {
   "cell_type": "code",
   "execution_count": 27,
   "metadata": {},
   "outputs": [
    {
     "data": {
      "text/html": [
       "<style>#sk-container-id-1 {color: black;background-color: white;}#sk-container-id-1 pre{padding: 0;}#sk-container-id-1 div.sk-toggleable {background-color: white;}#sk-container-id-1 label.sk-toggleable__label {cursor: pointer;display: block;width: 100%;margin-bottom: 0;padding: 0.3em;box-sizing: border-box;text-align: center;}#sk-container-id-1 label.sk-toggleable__label-arrow:before {content: \"▸\";float: left;margin-right: 0.25em;color: #696969;}#sk-container-id-1 label.sk-toggleable__label-arrow:hover:before {color: black;}#sk-container-id-1 div.sk-estimator:hover label.sk-toggleable__label-arrow:before {color: black;}#sk-container-id-1 div.sk-toggleable__content {max-height: 0;max-width: 0;overflow: hidden;text-align: left;background-color: #f0f8ff;}#sk-container-id-1 div.sk-toggleable__content pre {margin: 0.2em;color: black;border-radius: 0.25em;background-color: #f0f8ff;}#sk-container-id-1 input.sk-toggleable__control:checked~div.sk-toggleable__content {max-height: 200px;max-width: 100%;overflow: auto;}#sk-container-id-1 input.sk-toggleable__control:checked~label.sk-toggleable__label-arrow:before {content: \"▾\";}#sk-container-id-1 div.sk-estimator input.sk-toggleable__control:checked~label.sk-toggleable__label {background-color: #d4ebff;}#sk-container-id-1 div.sk-label input.sk-toggleable__control:checked~label.sk-toggleable__label {background-color: #d4ebff;}#sk-container-id-1 input.sk-hidden--visually {border: 0;clip: rect(1px 1px 1px 1px);clip: rect(1px, 1px, 1px, 1px);height: 1px;margin: -1px;overflow: hidden;padding: 0;position: absolute;width: 1px;}#sk-container-id-1 div.sk-estimator {font-family: monospace;background-color: #f0f8ff;border: 1px dotted black;border-radius: 0.25em;box-sizing: border-box;margin-bottom: 0.5em;}#sk-container-id-1 div.sk-estimator:hover {background-color: #d4ebff;}#sk-container-id-1 div.sk-parallel-item::after {content: \"\";width: 100%;border-bottom: 1px solid gray;flex-grow: 1;}#sk-container-id-1 div.sk-label:hover label.sk-toggleable__label {background-color: #d4ebff;}#sk-container-id-1 div.sk-serial::before {content: \"\";position: absolute;border-left: 1px solid gray;box-sizing: border-box;top: 0;bottom: 0;left: 50%;z-index: 0;}#sk-container-id-1 div.sk-serial {display: flex;flex-direction: column;align-items: center;background-color: white;padding-right: 0.2em;padding-left: 0.2em;position: relative;}#sk-container-id-1 div.sk-item {position: relative;z-index: 1;}#sk-container-id-1 div.sk-parallel {display: flex;align-items: stretch;justify-content: center;background-color: white;position: relative;}#sk-container-id-1 div.sk-item::before, #sk-container-id-1 div.sk-parallel-item::before {content: \"\";position: absolute;border-left: 1px solid gray;box-sizing: border-box;top: 0;bottom: 0;left: 50%;z-index: -1;}#sk-container-id-1 div.sk-parallel-item {display: flex;flex-direction: column;z-index: 1;position: relative;background-color: white;}#sk-container-id-1 div.sk-parallel-item:first-child::after {align-self: flex-end;width: 50%;}#sk-container-id-1 div.sk-parallel-item:last-child::after {align-self: flex-start;width: 50%;}#sk-container-id-1 div.sk-parallel-item:only-child::after {width: 0;}#sk-container-id-1 div.sk-dashed-wrapped {border: 1px dashed gray;margin: 0 0.4em 0.5em 0.4em;box-sizing: border-box;padding-bottom: 0.4em;background-color: white;}#sk-container-id-1 div.sk-label label {font-family: monospace;font-weight: bold;display: inline-block;line-height: 1.2em;}#sk-container-id-1 div.sk-label-container {text-align: center;}#sk-container-id-1 div.sk-container {/* jupyter's `normalize.less` sets `[hidden] { display: none; }` but bootstrap.min.css set `[hidden] { display: none !important; }` so we also need the `!important` here to be able to override the default hidden behavior on the sphinx rendered scikit-learn.org. See: https://github.com/scikit-learn/scikit-learn/issues/21755 */display: inline-block !important;position: relative;}#sk-container-id-1 div.sk-text-repr-fallback {display: none;}</style><div id=\"sk-container-id-1\" class=\"sk-top-container\"><div class=\"sk-text-repr-fallback\"><pre>GradientBoostingClassifier(max_depth=5, n_estimators=200, random_state=42)</pre><b>In a Jupyter environment, please rerun this cell to show the HTML representation or trust the notebook. <br />On GitHub, the HTML representation is unable to render, please try loading this page with nbviewer.org.</b></div><div class=\"sk-container\" hidden><div class=\"sk-item\"><div class=\"sk-estimator sk-toggleable\"><input class=\"sk-toggleable__control sk-hidden--visually\" id=\"sk-estimator-id-1\" type=\"checkbox\" checked><label for=\"sk-estimator-id-1\" class=\"sk-toggleable__label sk-toggleable__label-arrow\">GradientBoostingClassifier</label><div class=\"sk-toggleable__content\"><pre>GradientBoostingClassifier(max_depth=5, n_estimators=200, random_state=42)</pre></div></div></div></div></div>"
      ],
      "text/plain": [
       "GradientBoostingClassifier(max_depth=5, n_estimators=200, random_state=42)"
      ]
     },
     "execution_count": 27,
     "metadata": {},
     "output_type": "execute_result"
    }
   ],
   "source": [
    "X = new_data2[:,:-1]\n",
    "y = new_data2[:,-1]\n",
    "#split data\n",
    "X_train, X_test, y_train, y_test = train_test_split(X, y, test_size=0.2, random_state=42)\n",
    "\n",
    "# Build initial model\n",
    "gbdt_classifier = GradientBoostingClassifier(n_estimators=200, learning_rate=0.1, max_depth=5, random_state=42)\n",
    "y_train = y_train.astype(int)\n",
    "gbdt_classifier.fit(X_train, y_train)\n",
    "\n",
    "\n"
   ]
  },
  {
   "attachments": {},
   "cell_type": "markdown",
   "metadata": {},
   "source": [
    "Evaluate the model and calculate the accuracy."
   ]
  },
  {
   "cell_type": "code",
   "execution_count": 28,
   "metadata": {},
   "outputs": [
    {
     "name": "stdout",
     "output_type": "stream",
     "text": [
      "Accuracy: 0.80516875\n"
     ]
    }
   ],
   "source": [
    "y_test =  y_test.astype(int)\n",
    "y_pred = gbdt_classifier.predict(X_test)\n",
    "accuracy = accuracy_score(y_test, y_pred)\n",
    "print(f'Accuracy: {accuracy}')"
   ]
  },
  {
   "attachments": {},
   "cell_type": "markdown",
   "metadata": {},
   "source": [
    "Logistic regression algorithm learning."
   ]
  },
  {
   "cell_type": "code",
   "execution_count": 29,
   "metadata": {},
   "outputs": [
    {
     "data": {
      "text/html": [
       "<style>#sk-container-id-2 {color: black;background-color: white;}#sk-container-id-2 pre{padding: 0;}#sk-container-id-2 div.sk-toggleable {background-color: white;}#sk-container-id-2 label.sk-toggleable__label {cursor: pointer;display: block;width: 100%;margin-bottom: 0;padding: 0.3em;box-sizing: border-box;text-align: center;}#sk-container-id-2 label.sk-toggleable__label-arrow:before {content: \"▸\";float: left;margin-right: 0.25em;color: #696969;}#sk-container-id-2 label.sk-toggleable__label-arrow:hover:before {color: black;}#sk-container-id-2 div.sk-estimator:hover label.sk-toggleable__label-arrow:before {color: black;}#sk-container-id-2 div.sk-toggleable__content {max-height: 0;max-width: 0;overflow: hidden;text-align: left;background-color: #f0f8ff;}#sk-container-id-2 div.sk-toggleable__content pre {margin: 0.2em;color: black;border-radius: 0.25em;background-color: #f0f8ff;}#sk-container-id-2 input.sk-toggleable__control:checked~div.sk-toggleable__content {max-height: 200px;max-width: 100%;overflow: auto;}#sk-container-id-2 input.sk-toggleable__control:checked~label.sk-toggleable__label-arrow:before {content: \"▾\";}#sk-container-id-2 div.sk-estimator input.sk-toggleable__control:checked~label.sk-toggleable__label {background-color: #d4ebff;}#sk-container-id-2 div.sk-label input.sk-toggleable__control:checked~label.sk-toggleable__label {background-color: #d4ebff;}#sk-container-id-2 input.sk-hidden--visually {border: 0;clip: rect(1px 1px 1px 1px);clip: rect(1px, 1px, 1px, 1px);height: 1px;margin: -1px;overflow: hidden;padding: 0;position: absolute;width: 1px;}#sk-container-id-2 div.sk-estimator {font-family: monospace;background-color: #f0f8ff;border: 1px dotted black;border-radius: 0.25em;box-sizing: border-box;margin-bottom: 0.5em;}#sk-container-id-2 div.sk-estimator:hover {background-color: #d4ebff;}#sk-container-id-2 div.sk-parallel-item::after {content: \"\";width: 100%;border-bottom: 1px solid gray;flex-grow: 1;}#sk-container-id-2 div.sk-label:hover label.sk-toggleable__label {background-color: #d4ebff;}#sk-container-id-2 div.sk-serial::before {content: \"\";position: absolute;border-left: 1px solid gray;box-sizing: border-box;top: 0;bottom: 0;left: 50%;z-index: 0;}#sk-container-id-2 div.sk-serial {display: flex;flex-direction: column;align-items: center;background-color: white;padding-right: 0.2em;padding-left: 0.2em;position: relative;}#sk-container-id-2 div.sk-item {position: relative;z-index: 1;}#sk-container-id-2 div.sk-parallel {display: flex;align-items: stretch;justify-content: center;background-color: white;position: relative;}#sk-container-id-2 div.sk-item::before, #sk-container-id-2 div.sk-parallel-item::before {content: \"\";position: absolute;border-left: 1px solid gray;box-sizing: border-box;top: 0;bottom: 0;left: 50%;z-index: -1;}#sk-container-id-2 div.sk-parallel-item {display: flex;flex-direction: column;z-index: 1;position: relative;background-color: white;}#sk-container-id-2 div.sk-parallel-item:first-child::after {align-self: flex-end;width: 50%;}#sk-container-id-2 div.sk-parallel-item:last-child::after {align-self: flex-start;width: 50%;}#sk-container-id-2 div.sk-parallel-item:only-child::after {width: 0;}#sk-container-id-2 div.sk-dashed-wrapped {border: 1px dashed gray;margin: 0 0.4em 0.5em 0.4em;box-sizing: border-box;padding-bottom: 0.4em;background-color: white;}#sk-container-id-2 div.sk-label label {font-family: monospace;font-weight: bold;display: inline-block;line-height: 1.2em;}#sk-container-id-2 div.sk-label-container {text-align: center;}#sk-container-id-2 div.sk-container {/* jupyter's `normalize.less` sets `[hidden] { display: none; }` but bootstrap.min.css set `[hidden] { display: none !important; }` so we also need the `!important` here to be able to override the default hidden behavior on the sphinx rendered scikit-learn.org. See: https://github.com/scikit-learn/scikit-learn/issues/21755 */display: inline-block !important;position: relative;}#sk-container-id-2 div.sk-text-repr-fallback {display: none;}</style><div id=\"sk-container-id-2\" class=\"sk-top-container\"><div class=\"sk-text-repr-fallback\"><pre>LogisticRegression(C=10)</pre><b>In a Jupyter environment, please rerun this cell to show the HTML representation or trust the notebook. <br />On GitHub, the HTML representation is unable to render, please try loading this page with nbviewer.org.</b></div><div class=\"sk-container\" hidden><div class=\"sk-item\"><div class=\"sk-estimator sk-toggleable\"><input class=\"sk-toggleable__control sk-hidden--visually\" id=\"sk-estimator-id-2\" type=\"checkbox\" checked><label for=\"sk-estimator-id-2\" class=\"sk-toggleable__label sk-toggleable__label-arrow\">LogisticRegression</label><div class=\"sk-toggleable__content\"><pre>LogisticRegression(C=10)</pre></div></div></div></div></div>"
      ],
      "text/plain": [
       "LogisticRegression(C=10)"
      ]
     },
     "execution_count": 29,
     "metadata": {},
     "output_type": "execute_result"
    }
   ],
   "source": [
    "X = new_data2[:,:-1]\n",
    "y = new_data2[:,-1]\n",
    "X_train, X_test, y_train, y_test = train_test_split(X, y, test_size=0.2, random_state=42)\n",
    "logistic_regression = LogisticRegression(C= 10, penalty=\"l2\")\n",
    "y_train = y_train.astype(int)\n",
    "logistic_regression.fit(X_train, y_train)"
   ]
  },
  {
   "attachments": {},
   "cell_type": "markdown",
   "metadata": {},
   "source": [
    "Calculate model accuracy."
   ]
  },
  {
   "cell_type": "code",
   "execution_count": 30,
   "metadata": {},
   "outputs": [
    {
     "name": "stdout",
     "output_type": "stream",
     "text": [
      "Accuracy: 0.80421875\n"
     ]
    }
   ],
   "source": [
    "y_test = y_test.astype(int)\n",
    "y_pred = logistic_regression.predict(X_test)\n",
    "accuracy = accuracy_score(y_test, y_pred)\n",
    "print(f'Accuracy: {accuracy}')"
   ]
  },
  {
   "attachments": {},
   "cell_type": "markdown",
   "metadata": {},
   "source": [
    "A random search is used to select a combination of hyperparameters for the logistic regression model."
   ]
  },
  {
   "cell_type": "code",
   "execution_count": 31,
   "metadata": {},
   "outputs": [
    {
     "name": "stdout",
     "output_type": "stream",
     "text": [
      "Fitting 5 folds for each of 10 candidates, totalling 50 fits\n"
     ]
    },
    {
     "name": "stderr",
     "output_type": "stream",
     "text": [
      "c:\\Users\\11149\\anaconda3\\envs\\ebay\\lib\\site-packages\\sklearn\\model_selection\\_validation.py:378: FitFailedWarning: \n",
      "15 fits failed out of a total of 50.\n",
      "The score on these train-test partitions for these parameters will be set to nan.\n",
      "If these failures are not expected, you can try to debug them by setting error_score='raise'.\n",
      "\n",
      "Below are more details about the failures:\n",
      "--------------------------------------------------------------------------------\n",
      "15 fits failed with the following error:\n",
      "Traceback (most recent call last):\n",
      "  File \"c:\\Users\\11149\\anaconda3\\envs\\ebay\\lib\\site-packages\\sklearn\\model_selection\\_validation.py\", line 686, in _fit_and_score\n",
      "    estimator.fit(X_train, y_train, **fit_params)\n",
      "  File \"c:\\Users\\11149\\anaconda3\\envs\\ebay\\lib\\site-packages\\sklearn\\linear_model\\_logistic.py\", line 1091, in fit\n",
      "    solver = _check_solver(self.solver, self.penalty, self.dual)\n",
      "  File \"c:\\Users\\11149\\anaconda3\\envs\\ebay\\lib\\site-packages\\sklearn\\linear_model\\_logistic.py\", line 61, in _check_solver\n",
      "    raise ValueError(\n",
      "ValueError: Solver lbfgs supports only 'l2' or 'none' penalties, got l1 penalty.\n",
      "\n",
      "  warnings.warn(some_fits_failed_message, FitFailedWarning)\n",
      "c:\\Users\\11149\\anaconda3\\envs\\ebay\\lib\\site-packages\\sklearn\\model_selection\\_search.py:953: UserWarning: One or more of the test scores are non-finite: [       nan 0.80135625        nan        nan 0.80135469 0.80135625\n",
      " 0.80135625 0.80135469 0.80135625 0.80135469]\n",
      "  warnings.warn(\n"
     ]
    },
    {
     "name": "stdout",
     "output_type": "stream",
     "text": [
      "best_estimators: {'C': 18.44347898661638, 'penalty': 'l2'}\n",
      "Accuracy: 0.80421875\n"
     ]
    }
   ],
   "source": [
    "param_dist = {\n",
    "    'C': uniform(0.1, 100),  \n",
    "    'penalty': ['l1', 'l2']  \n",
    "}\n",
    "\n",
    "logistic_regression = LogisticRegression()\n",
    "random_search = RandomizedSearchCV(\n",
    "    logistic_regression, param_distributions=param_dist, n_iter=10, cv=5, verbose=1, n_jobs=-1, random_state=42)\n",
    "\n",
    "random_search.fit(X_train, y_train)\n",
    "\n",
    "print(\"best_estimators:\", random_search.best_params_)\n",
    "best_logistic_regression = random_search.best_estimator_\n",
    "y_pred = best_logistic_regression.predict(X_test)\n",
    "accuracy = accuracy_score(y_test, y_pred)\n",
    "print(f'Accuracy: {accuracy}')\n",
    "\n"
   ]
  },
  {
   "cell_type": "code",
   "execution_count": 32,
   "metadata": {},
   "outputs": [
    {
     "name": "stderr",
     "output_type": "stream",
     "text": [
      "c:\\Users\\11149\\anaconda3\\envs\\ebay\\lib\\site-packages\\sklearn\\model_selection\\_validation.py:378: FitFailedWarning: \n",
      "40 fits failed out of a total of 80.\n",
      "The score on these train-test partitions for these parameters will be set to nan.\n",
      "If these failures are not expected, you can try to debug them by setting error_score='raise'.\n",
      "\n",
      "Below are more details about the failures:\n",
      "--------------------------------------------------------------------------------\n",
      "40 fits failed with the following error:\n",
      "Traceback (most recent call last):\n",
      "  File \"c:\\Users\\11149\\anaconda3\\envs\\ebay\\lib\\site-packages\\sklearn\\model_selection\\_validation.py\", line 686, in _fit_and_score\n",
      "    estimator.fit(X_train, y_train, **fit_params)\n",
      "  File \"c:\\Users\\11149\\anaconda3\\envs\\ebay\\lib\\site-packages\\sklearn\\linear_model\\_logistic.py\", line 1091, in fit\n",
      "    solver = _check_solver(self.solver, self.penalty, self.dual)\n",
      "  File \"c:\\Users\\11149\\anaconda3\\envs\\ebay\\lib\\site-packages\\sklearn\\linear_model\\_logistic.py\", line 61, in _check_solver\n",
      "    raise ValueError(\n",
      "ValueError: Solver lbfgs supports only 'l2' or 'none' penalties, got l1 penalty.\n",
      "\n",
      "  warnings.warn(some_fits_failed_message, FitFailedWarning)\n",
      "c:\\Users\\11149\\anaconda3\\envs\\ebay\\lib\\site-packages\\sklearn\\model_selection\\_search.py:953: UserWarning: One or more of the test scores are non-finite: [       nan 0.80126562        nan 0.80134062        nan 0.80134688\n",
      "        nan 0.80135625        nan 0.80135625        nan 0.80135625\n",
      "        nan 0.80135781        nan 0.80135781]\n",
      "  warnings.warn(\n"
     ]
    },
    {
     "name": "stdout",
     "output_type": "stream",
     "text": [
      "best_estimators: {'C': 800, 'penalty': 'l2'}\n",
      "accuracy: 0.80421875\n"
     ]
    }
   ],
   "source": [
    "param_grid = {\n",
    "    'C': [0.01, 0.1, 1.0, 10.0, 20, 99, 800, 1000],  \n",
    "    'penalty': ['l1', 'l2'] \n",
    "}\n",
    "y_test = y_test.astype(int)\n",
    "y_train = y_train.astype(int)\n",
    "grid_search = GridSearchCV(logistic_regression, param_grid, cv=5, scoring='accuracy')\n",
    "grid_search.fit(X_train, y_train)\n",
    "best_model = grid_search.best_estimator_\n",
    "best_params = grid_search.best_params_\n",
    "\n",
    "y_pred = best_model.predict(X_test)\n",
    "accuracy = accuracy_score(y_test, y_pred)\n",
    "print(f\"best_estimators: {best_params}\")\n",
    "print(f\"accuracy: {accuracy}\")\n",
    "\n",
    "\n"
   ]
  },
  {
   "attachments": {},
   "cell_type": "markdown",
   "metadata": {},
   "source": [
    "The data set is divided into training set and test set."
   ]
  },
  {
   "cell_type": "code",
   "execution_count": 33,
   "metadata": {},
   "outputs": [],
   "source": [
    "X_train, X_test, y_train, y_test = train_test_split(X, y, test_size=0.2, random_state=42)"
   ]
  },
  {
   "attachments": {},
   "cell_type": "markdown",
   "metadata": {},
   "source": [
    "MLP model"
   ]
  },
  {
   "cell_type": "code",
   "execution_count": 34,
   "metadata": {},
   "outputs": [
    {
     "name": "stderr",
     "output_type": "stream",
     "text": [
      "c:\\Users\\11149\\anaconda3\\envs\\ebay\\lib\\site-packages\\sklearn\\neural_network\\_multilayer_perceptron.py:709: UserWarning: Training interrupted by user.\n",
      "  warnings.warn(\"Training interrupted by user.\")\n"
     ]
    },
    {
     "name": "stdout",
     "output_type": "stream",
     "text": [
      "Accuracy: 0.80426875\n"
     ]
    }
   ],
   "source": [
    "\n",
    "mlp_classifier = MLPClassifier(hidden_layer_sizes=(100, 50), max_iter=200, random_state=42)\n",
    "\n",
    "y_train = y_train.astype(int)\n",
    "mlp_classifier.fit(X_train, y_train)\n",
    "\n",
    "\n",
    "y_test = y_test.astype(int)\n",
    "y_pred = mlp_classifier.predict(X_test)\n",
    "accuracy = mlp_classifier.score(X_test, y_test)\n",
    "print(f'Accuracy: {accuracy}')"
   ]
  },
  {
   "attachments": {},
   "cell_type": "markdown",
   "metadata": {},
   "source": [
    "Find the right super parameters for the MLP model."
   ]
  },
  {
   "cell_type": "code",
   "execution_count": null,
   "metadata": {},
   "outputs": [
    {
     "name": "stderr",
     "output_type": "stream",
     "text": [
      "c:\\Users\\11149\\anaconda3\\envs\\ebay\\lib\\site-packages\\sklearn\\neural_network\\_multilayer_perceptron.py:709: UserWarning: Training interrupted by user.\n",
      "  warnings.warn(\"Training interrupted by user.\")\n",
      "c:\\Users\\11149\\anaconda3\\envs\\ebay\\lib\\site-packages\\sklearn\\neural_network\\_multilayer_perceptron.py:709: UserWarning: Training interrupted by user.\n",
      "  warnings.warn(\"Training interrupted by user.\")\n",
      "c:\\Users\\11149\\anaconda3\\envs\\ebay\\lib\\site-packages\\sklearn\\neural_network\\_multilayer_perceptron.py:709: UserWarning: Training interrupted by user.\n",
      "  warnings.warn(\"Training interrupted by user.\")\n",
      "c:\\Users\\11149\\anaconda3\\envs\\ebay\\lib\\site-packages\\sklearn\\neural_network\\_multilayer_perceptron.py:709: UserWarning: Training interrupted by user.\n",
      "  warnings.warn(\"Training interrupted by user.\")\n",
      "c:\\Users\\11149\\anaconda3\\envs\\ebay\\lib\\site-packages\\sklearn\\neural_network\\_multilayer_perceptron.py:709: UserWarning: Training interrupted by user.\n",
      "  warnings.warn(\"Training interrupted by user.\")\n",
      "\n",
      "KeyboardInterrupt\n",
      "\n"
     ]
    }
   ],
   "source": [
    "\n",
    "param_grid = {\n",
    "    'hidden_layer_sizes': [(50,), (100,), (50, 50)],\n",
    "    'activation': ['relu', 'tanh'],\n",
    "    'alpha': [0.0001, 0.001, 0.01]\n",
    "}\n",
    "y_train = y_train.astype(int)\n",
    "y_test = y_test.astype(int)\n",
    "grid_search = GridSearchCV(mlp_classifier, param_grid, cv=5, scoring='accuracy')\n",
    "grid_search.fit(X_train, y_train)\n",
    "\n",
    "best_model = grid_search.best_estimator_\n",
    "best_params = grid_search.best_params_\n",
    "\n",
    "test_accuracy = best_model.score(X_test, y_test)\n",
    "\n",
    "print(f\"best_estimators: {best_params}\")\n",
    "print(f\"accuracy: {test_accuracy}\")\n",
    "\n",
    "\n",
    "\n",
    "\n",
    "\n"
   ]
  },
  {
   "attachments": {},
   "cell_type": "markdown",
   "metadata": {},
   "source": [
    "The RandmizedSearchCV method is used to find the optimal hyperparameters for GBDT algorithm model."
   ]
  },
  {
   "cell_type": "code",
   "execution_count": 35,
   "metadata": {},
   "outputs": [
    {
     "name": "stdout",
     "output_type": "stream",
     "text": [
      "Fitting 5 folds for each of 10 candidates, totalling 50 fits\n"
     ]
    }
   ],
   "source": [
    "param_dist = {\n",
    "    'n_estimators': randint(50, 200),\n",
    "    'max_depth': randint(3, 10),\n",
    "    'learning_rate': uniform(0.01, 0.1),\n",
    "    'subsample': uniform(0.6, 0.4)\n",
    "}\n",
    "random_search = RandomizedSearchCV(\n",
    "    gbdt_classifier, param_distributions=param_dist, n_iter=10, cv=5, verbose=1, n_jobs=-1, random_state=42)\n",
    "\n",
    "y = y.astype(int)\n",
    "random_search.fit(X, y)\n",
    "\n",
    "print(\"best_estimators:\", random_search.best_params_)\n",
    "\n",
    "best_model = random_search.best_estimator_\n"
   ]
  },
  {
   "attachments": {},
   "cell_type": "markdown",
   "metadata": {},
   "source": [
    "The GBDT and logistic regression algorithm models are analyzed by RandomizedSearchCV"
   ]
  },
  {
   "attachments": {},
   "cell_type": "markdown",
   "metadata": {},
   "source": [
    "The precision score, recall score, f1 score and other parameters of the logistic regression model were set to set the testdata matrix corresponding to the output of the above three algorithms respectively."
   ]
  },
  {
   "cell_type": "code",
   "execution_count": null,
   "metadata": {},
   "outputs": [
    {
     "name": "stdout",
     "output_type": "stream",
     "text": [
      "Precision Score: 0.5710794297352342\n",
      "F1 Score: 0.08215405349975095\n",
      "Recall Score: 0.04426063896956686\n"
     ]
    }
   ],
   "source": [
    "logistic_regression.fit(X_train, y_train)\n",
    "y_pred = logistic_regression.predict(X_test)\n",
    "precision = precision_score(y_test, y_pred, pos_label=2)\n",
    "f1 = f1_score(y_test, y_pred, pos_label=2)\n",
    "recall = recall_score(y_test, y_pred, pos_label=2)\n",
    "print(f'Precision Score: {precision}')\n",
    "print(f'F1 Score: {f1}')\n",
    "print(f'Recall Score: {recall}')"
   ]
  },
  {
   "attachments": {},
   "cell_type": "markdown",
   "metadata": {},
   "source": [
    "The precision score, recall score, f1 score and other parameters of the MLP model were set to output testdata matrix corresponding to the above three algorithms respectively."
   ]
  },
  {
   "cell_type": "code",
   "execution_count": null,
   "metadata": {},
   "outputs": [
    {
     "name": "stdout",
     "output_type": "stream",
     "text": [
      "Precision Score (MLP): 0.5439707673568819\n",
      "Recall Score (MLP): 0.0704950119964642\n",
      "F1 Score (MLP): 0.12481484586791873\n"
     ]
    }
   ],
   "source": [
    "y_pred = mlp_classifier.predict(X_test)\n",
    "precision = precision_score(y_test, y_pred, pos_label=2)\n",
    "recall = recall_score(y_test, y_pred, pos_label=2)\n",
    "f1 = f1_score(y_test, y_pred, pos_label=2)\n",
    "print(f'Precision Score (MLP): {precision}')\n",
    "print(f'Recall Score (MLP): {recall}')\n",
    "print(f'F1 Score (MLP): {f1}')\n"
   ]
  },
  {
   "attachments": {},
   "cell_type": "markdown",
   "metadata": {},
   "source": [
    "The precision socre, recall score, f1 score and other parameters of GBDT model were set to output testdata matrix corresponding to the above three algorithms respectively."
   ]
  },
  {
   "cell_type": "code",
   "execution_count": null,
   "metadata": {},
   "outputs": [
    {
     "name": "stdout",
     "output_type": "stream",
     "text": [
      "Precision Score (GBDT): 0.5584475947013712\n",
      "Recall Score (GBDT): 0.07586185124384393\n",
      "F1 Score (GBDT): 0.13357792045359795\n"
     ]
    }
   ],
   "source": [
    "y_pred = gbdt_classifier.predict(X_test)\n",
    "precision = precision_score(y_test, y_pred,pos_label=2)\n",
    "recall = recall_score(y_test, y_pred,pos_label=2)\n",
    "f1 = f1_score(y_test, y_pred,pos_label=2)\n",
    "print(f'Precision Score (GBDT): {precision}')\n",
    "print(f'Recall Score (GBDT): {recall}')\n",
    "print(f'F1 Score (GBDT): {f1}')"
   ]
  },
  {
   "attachments": {},
   "cell_type": "markdown",
   "metadata": {},
   "source": [
    "Below is pickle the trained model."
   ]
  },
  {
   "cell_type": "code",
   "execution_count": null,
   "metadata": {},
   "outputs": [],
   "source": [
    "with open('preprocessor.pkl', 'wb') as preprocessor_file:\n",
    "    pickle.dump((ohe, standard), preprocessor_file)"
   ]
  },
  {
   "cell_type": "code",
   "execution_count": null,
   "metadata": {},
   "outputs": [],
   "source": [
    "# Store the trained gbdt model\n",
    "with open('gbdt_model.pkl', 'wb') as model_file:\n",
    "    pickle.dump(gbdt_classifier, model_file)\n"
   ]
  },
  {
   "cell_type": "code",
   "execution_count": null,
   "metadata": {},
   "outputs": [],
   "source": [
    "# Store the trained logistic regression model\n",
    "with open('logistic_regression_model.pkl', 'wb') as model_file:\n",
    "    pickle.dump(best_logistic_regression, model_file)"
   ]
  },
  {
   "cell_type": "code",
   "execution_count": null,
   "metadata": {},
   "outputs": [],
   "source": [
    "# Save the trained MLP model\n",
    "with open('mlp_classifier_model.pkl', 'wb') as model_file:\n",
    "    pickle.dump(mlp_classifier, model_file)"
   ]
  },
  {
   "attachments": {},
   "cell_type": "markdown",
   "metadata": {},
   "source": [
    "The next step is to use the flask framework to write the algorithm in Python and set up the flask framework. Then build a web page in HTML language to connect to the flask server, set the web page format, and set the input data format. Adjust the data input format in html language in python, and load the optimal model trained previously to complete the Flask framework."
   ]
  },
  {
   "cell_type": "code",
   "execution_count": null,
   "metadata": {},
   "outputs": [],
   "source": [
    "\n",
    "app = Flask(__name__)\n",
    "if __name__ ==\"__main__\":\n",
    "    app.run(debug=True, port=8080)\n",
    "\n"
   ]
  },
  {
   "cell_type": "code",
   "execution_count": null,
   "metadata": {},
   "outputs": [],
   "source": []
  },
  {
   "cell_type": "markdown",
   "metadata": {},
   "source": [
    "Conclusion: \n",
    "When training gbdt, logistic regression, and mlp models, we use the optimal hyperparameters of each algorithm to continuously improve the algorithm and improve the accuracy of the algorithm. After changing the optimal hyperparameters, parameters such as precision score, recall score and f1score were calculated for each algorithm model. Then a comparison was made and it was found that the logistic regression algorithm was slightly better, and the logistic algorithm model took longer than the other two. This algorithm model is shorter, can save time and obtain relatively accurate predictions."
   ]
  }
 ],
 "metadata": {
  "kernelspec": {
   "display_name": "Python 3",
   "language": "python",
   "name": "python3"
  },
  "language_info": {
   "codemirror_mode": {
    "name": "ipython",
    "version": 3
   },
   "file_extension": ".py",
   "mimetype": "text/x-python",
   "name": "python",
   "nbconvert_exporter": "python",
   "pygments_lexer": "ipython3",
   "version": "3.8.18"
  },
  "orig_nbformat": 4,
  "vscode": {
   "interpreter": {
    "hash": "aee8b7b246df8f9039afb4144a1f6fd8d2ca17a180786b69acc140d282b71a49"
   }
  }
 },
 "nbformat": 4,
 "nbformat_minor": 2
}
